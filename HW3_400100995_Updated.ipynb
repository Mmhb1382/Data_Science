{
 "cells": [
  {
   "cell_type": "markdown",
   "id": "e279eb6a5e7161b7",
   "metadata": {},
   "source": [
    "# HW3 on Data Science course of Sharif University of Technology\n",
    "## Created by: Mohammad Mahdi Hossein Beiky     SI: 400100995\n",
    "## GitHub URL: https://github.com/Mmhb1382/data-science.git\n",
    "---"
   ]
  },
  {
   "cell_type": "markdown",
   "id": "d84175d333881101",
   "metadata": {},
   "source": [
    "### Import python packages here:"
   ]
  },
  {
   "cell_type": "code",
   "execution_count": 63,
   "id": "initial_id",
   "metadata": {
    "ExecuteTime": {
     "end_time": "2025-02-28T19:37:45.955467Z",
     "start_time": "2025-02-28T19:37:45.953357Z"
    },
    "collapsed": true
   },
   "outputs": [],
   "source": [
    "import pandas as pd\n",
    "import numpy as np\n",
    "import matplotlib.pyplot as plt\n",
    "import seaborn as sns\n",
    "import plotly.express as px\n",
    "from sklearn.preprocessing import LabelEncoder, OneHotEncoder, StandardScaler, MinMaxScaler"
   ]
  },
  {
   "cell_type": "code",
   "execution_count": 64,
   "id": "cbf662eb",
   "metadata": {},
   "outputs": [
    {
     "data": {
      "text/html": [
       "<div>\n",
       "<style scoped>\n",
       "    .dataframe tbody tr th:only-of-type {\n",
       "        vertical-align: middle;\n",
       "    }\n",
       "\n",
       "    .dataframe tbody tr th {\n",
       "        vertical-align: top;\n",
       "    }\n",
       "\n",
       "    .dataframe thead th {\n",
       "        text-align: right;\n",
       "    }\n",
       "</style>\n",
       "<table border=\"1\" class=\"dataframe\">\n",
       "  <thead>\n",
       "    <tr style=\"text-align: right;\">\n",
       "      <th></th>\n",
       "      <th>No. Previous Orders by Customer</th>\n",
       "      <th>Customer Join Date</th>\n",
       "      <th>Parent Service Category</th>\n",
       "      <th>Service Name</th>\n",
       "      <th>Order Status</th>\n",
       "      <th>Order City</th>\n",
       "      <th>Order Region</th>\n",
       "      <th>Workman Joine Date</th>\n",
       "      <th>Desired Date</th>\n",
       "      <th>Creation Date</th>\n",
       "      <th>Finish Date</th>\n",
       "      <th>Customer Rating</th>\n",
       "      <th>workman Rating Score</th>\n",
       "      <th>Comment</th>\n",
       "      <th>Device</th>\n",
       "      <th>Price</th>\n",
       "      <th>Discount</th>\n",
       "      <th>Quoted Task?</th>\n",
       "    </tr>\n",
       "  </thead>\n",
       "  <tbody>\n",
       "    <tr>\n",
       "      <th>0</th>\n",
       "      <td>3</td>\n",
       "      <td>1396-06-09 11:51:32.505950+04:30</td>\n",
       "      <td>نظافت و پذیرایی</td>\n",
       "      <td>نظافت راه‌ پله</td>\n",
       "      <td>ثبت‌ شده</td>\n",
       "      <td>تهران</td>\n",
       "      <td>استاد معین</td>\n",
       "      <td>NaN</td>\n",
       "      <td>1400-06-26 10:00:01.000000+04:30</td>\n",
       "      <td>1400-06-24 03:06:56.093221+04:30</td>\n",
       "      <td>1400-06-26 16:00:01.000000+04:30</td>\n",
       "      <td>NaN</td>\n",
       "      <td>NaN</td>\n",
       "      <td>NaN</td>\n",
       "      <td>android</td>\n",
       "      <td>180000</td>\n",
       "      <td>0</td>\n",
       "      <td>AUTOMATIC_ALLOCATION</td>\n",
       "    </tr>\n",
       "    <tr>\n",
       "      <th>1</th>\n",
       "      <td>0</td>\n",
       "      <td>1400-06-24 02:54:34.549933+04:30</td>\n",
       "      <td>دکوراسیون و بازسازی</td>\n",
       "      <td>بنایی</td>\n",
       "      <td>Achar_Pending</td>\n",
       "      <td>تهران</td>\n",
       "      <td>وردآورد</td>\n",
       "      <td>NaN</td>\n",
       "      <td>1400-06-24 09:30:01.000000+04:30</td>\n",
       "      <td>1400-06-24 03:03:12.365980+04:30</td>\n",
       "      <td>1400-06-24 10:30:01.000000+04:30</td>\n",
       "      <td>NaN</td>\n",
       "      <td>NaN</td>\n",
       "      <td>NaN</td>\n",
       "      <td>android</td>\n",
       "      <td>0</td>\n",
       "      <td>0</td>\n",
       "      <td>MANUAL_ALLOCATION</td>\n",
       "    </tr>\n",
       "    <tr>\n",
       "      <th>2</th>\n",
       "      <td>0</td>\n",
       "      <td>1400-06-24 02:46:15.891303+04:30</td>\n",
       "      <td>نصب و تعمیر لوازم خانگی</td>\n",
       "      <td>نصب و تعمیر یخچال و فریزر</td>\n",
       "      <td>ثبت‌ شده</td>\n",
       "      <td>رشت</td>\n",
       "      <td>پل طالشان</td>\n",
       "      <td>NaN</td>\n",
       "      <td>1400-06-25 12:30:01.000000+04:30</td>\n",
       "      <td>1400-06-24 02:59:20.374623+04:30</td>\n",
       "      <td>1400-06-25 13:30:01.000000+04:30</td>\n",
       "      <td>NaN</td>\n",
       "      <td>NaN</td>\n",
       "      <td>NaN</td>\n",
       "      <td>android</td>\n",
       "      <td>0</td>\n",
       "      <td>0</td>\n",
       "      <td>MANUAL_ALLOCATION</td>\n",
       "    </tr>\n",
       "    <tr>\n",
       "      <th>3</th>\n",
       "      <td>0</td>\n",
       "      <td>1397-03-16 14:28:00.764511+04:30</td>\n",
       "      <td>تعمیرات خودرو</td>\n",
       "      <td>صافکاری و نقاشی</td>\n",
       "      <td>ثبت‌ شده</td>\n",
       "      <td>رشت</td>\n",
       "      <td>فلکه جهاد</td>\n",
       "      <td>NaN</td>\n",
       "      <td>1400-06-24 09:00:01.000000+04:30</td>\n",
       "      <td>1400-06-24 02:42:10.924776+04:30</td>\n",
       "      <td>1400-06-24 10:00:01.000000+04:30</td>\n",
       "      <td>NaN</td>\n",
       "      <td>NaN</td>\n",
       "      <td>NaN</td>\n",
       "      <td>android</td>\n",
       "      <td>0</td>\n",
       "      <td>0</td>\n",
       "      <td>MANUAL_ALLOCATION</td>\n",
       "    </tr>\n",
       "    <tr>\n",
       "      <th>4</th>\n",
       "      <td>0</td>\n",
       "      <td>1400-06-24 02:26:08.327191+04:30</td>\n",
       "      <td>دکوراسیون و بازسازی</td>\n",
       "      <td>بنایی</td>\n",
       "      <td>لغو شده</td>\n",
       "      <td>تهران</td>\n",
       "      <td>ستارخان</td>\n",
       "      <td>NaN</td>\n",
       "      <td>1400-06-24 09:30:01.000000+04:30</td>\n",
       "      <td>1400-06-24 02:37:03.244927+04:30</td>\n",
       "      <td>1400-06-24 10:30:01.000000+04:30</td>\n",
       "      <td>NaN</td>\n",
       "      <td>NaN</td>\n",
       "      <td>NaN</td>\n",
       "      <td>android</td>\n",
       "      <td>0</td>\n",
       "      <td>0</td>\n",
       "      <td>MANUAL_ALLOCATION</td>\n",
       "    </tr>\n",
       "  </tbody>\n",
       "</table>\n",
       "</div>"
      ],
      "text/plain": [
       "   No. Previous Orders by Customer                Customer Join Date  \\\n",
       "0                                3  1396-06-09 11:51:32.505950+04:30   \n",
       "1                                0  1400-06-24 02:54:34.549933+04:30   \n",
       "2                                0  1400-06-24 02:46:15.891303+04:30   \n",
       "3                                0  1397-03-16 14:28:00.764511+04:30   \n",
       "4                                0  1400-06-24 02:26:08.327191+04:30   \n",
       "\n",
       "   Parent Service Category               Service Name   Order Status  \\\n",
       "0          نظافت و پذیرایی             نظافت راه‌ پله       ثبت‌ شده   \n",
       "1      دکوراسیون و بازسازی                      بنایی  Achar_Pending   \n",
       "2  نصب و تعمیر لوازم خانگی  نصب و تعمیر یخچال و فریزر       ثبت‌ شده   \n",
       "3            تعمیرات خودرو            صافکاری و نقاشی       ثبت‌ شده   \n",
       "4      دکوراسیون و بازسازی                      بنایی        لغو شده   \n",
       "\n",
       "  Order City Order Region Workman Joine Date  \\\n",
       "0      تهران   استاد معین                NaN   \n",
       "1      تهران      وردآورد                NaN   \n",
       "2        رشت    پل طالشان                NaN   \n",
       "3        رشت    فلکه جهاد                NaN   \n",
       "4      تهران      ستارخان                NaN   \n",
       "\n",
       "                       Desired Date                     Creation Date  \\\n",
       "0  1400-06-26 10:00:01.000000+04:30  1400-06-24 03:06:56.093221+04:30   \n",
       "1  1400-06-24 09:30:01.000000+04:30  1400-06-24 03:03:12.365980+04:30   \n",
       "2  1400-06-25 12:30:01.000000+04:30  1400-06-24 02:59:20.374623+04:30   \n",
       "3  1400-06-24 09:00:01.000000+04:30  1400-06-24 02:42:10.924776+04:30   \n",
       "4  1400-06-24 09:30:01.000000+04:30  1400-06-24 02:37:03.244927+04:30   \n",
       "\n",
       "                        Finish Date  Customer Rating  workman Rating Score  \\\n",
       "0  1400-06-26 16:00:01.000000+04:30              NaN                   NaN   \n",
       "1  1400-06-24 10:30:01.000000+04:30              NaN                   NaN   \n",
       "2  1400-06-25 13:30:01.000000+04:30              NaN                   NaN   \n",
       "3  1400-06-24 10:00:01.000000+04:30              NaN                   NaN   \n",
       "4  1400-06-24 10:30:01.000000+04:30              NaN                   NaN   \n",
       "\n",
       "  Comment   Device   Price  Discount          Quoted Task?  \n",
       "0     NaN  android  180000         0  AUTOMATIC_ALLOCATION  \n",
       "1     NaN  android       0         0     MANUAL_ALLOCATION  \n",
       "2     NaN  android       0         0     MANUAL_ALLOCATION  \n",
       "3     NaN  android       0         0     MANUAL_ALLOCATION  \n",
       "4     NaN  android       0         0     MANUAL_ALLOCATION  "
      ]
     },
     "execution_count": 64,
     "metadata": {},
     "output_type": "execute_result"
    }
   ],
   "source": [
    "# Load dataset\n",
    "df = pd.read_csv(\"achare.csv\")\n",
    "df.head()"
   ]
  },
  {
   "cell_type": "code",
   "execution_count": 65,
   "id": "45f5fef6",
   "metadata": {},
   "outputs": [],
   "source": [
    "### 1. Handling Missing Values ###\n",
    "# Drop columns if too many missing values (e.g., more than 90%)\n",
    "thresh = len(df) * 0.9\n",
    "df = df.dropna(thresh=thresh, axis=1)"
   ]
  },
  {
   "cell_type": "code",
   "execution_count": 66,
   "id": "19795ff9",
   "metadata": {},
   "outputs": [],
   "source": [
    "# Fill missing categorical values with the most frequent value\n",
    "df.fillna({col: df[col].mode()[0] for col in df.select_dtypes(include=['object']).columns}, inplace=True)"
   ]
  },
  {
   "cell_type": "code",
   "execution_count": 67,
   "id": "24aaaa12",
   "metadata": {},
   "outputs": [],
   "source": [
    "# Fill missing numerical values with median\n",
    "df.fillna({col: df[col].median() for col in df.select_dtypes(include=['int64', 'float64']).columns}, inplace=True)"
   ]
  },
  {
   "cell_type": "code",
   "execution_count": 68,
   "id": "373d4598",
   "metadata": {},
   "outputs": [],
   "source": [
    "### 2. Handling Duplicates ###\n",
    "df.drop_duplicates(inplace=True)"
   ]
  },
  {
   "cell_type": "code",
   "execution_count": 69,
   "id": "fed485e9",
   "metadata": {},
   "outputs": [],
   "source": [
    "### 3. Handling Outliers ###\n",
    "def remove_outliers(data, columns):\n",
    "    for col in columns:\n",
    "        Q1 = data[col].quantile(0.25)\n",
    "        Q3 = data[col].quantile(0.75)\n",
    "        IQR = Q3 - Q1\n",
    "        lower_bound = Q1 - 1.5 * IQR\n",
    "        upper_bound = Q3 + 1.5 * IQR\n",
    "        data = data[(data[col] >= lower_bound) & (data[col] <= upper_bound)]\n",
    "    return data\n",
    "\n",
    "# Apply outlier removal on numerical columns\n",
    "df = remove_outliers(df, df.select_dtypes(include=['int64', 'float64']).columns)"
   ]
  },
  {
   "cell_type": "code",
   "execution_count": 70,
   "id": "b2ea21e3",
   "metadata": {},
   "outputs": [],
   "source": [
    "### 4. Encoding Categorical Data ###\n",
    "# Label Encoding for specific multi-class categorical variables\n",
    "label_encoders = {}\n",
    "label_encoding_cols = ['Parent Service Category', 'Service Name', 'Order Status', 'Order City', 'Order Region']\n",
    "for col in label_encoding_cols:\n",
    "    le = LabelEncoder()\n",
    "    df.insert(df.columns.get_loc(col) + 1, f'{col}_Encoded', le.fit_transform(df[col]))\n",
    "    label_encoders[col] = le"
   ]
  },
  {
   "cell_type": "code",
   "execution_count": 71,
   "id": "4115b048",
   "metadata": {},
   "outputs": [],
   "source": [
    "# One-Hot Encoding for categorical variables with a few unique values\n",
    "one_hot_cols = [col for col in df.select_dtypes(include=['object']).columns if df[col].nunique() <= 10 and col not in label_encoding_cols]\n",
    "for col in one_hot_cols:\n",
    "    one_hot = pd.get_dummies(df[col], prefix=col).astype(int)\n",
    "    col_index = df.columns.get_loc(col) + 1\n",
    "    for new_col in one_hot.columns[::-1]:  # Reverse to keep order correct when inserting\n",
    "        df.insert(col_index, new_col, one_hot[new_col])"
   ]
  },
  {
   "cell_type": "code",
   "execution_count": 72,
   "id": "e7a96db7",
   "metadata": {},
   "outputs": [],
   "source": [
    "### 5. Handling Hijri Shamsi Dates Properly ###\n",
    "date_cols = ['Customer Join Date', 'Desired Date', 'Creation Date', 'Finish Date']\n",
    "\n",
    "def extract_shamsi_date_parts(date_str):\n",
    "    try:\n",
    "        parts = date_str.split(\" \")[0].split(\"-\")  # Extract YYYY-MM-DD part\n",
    "        if len(parts) == 3:\n",
    "            year, month, day = map(int, parts)\n",
    "            return year, month, day\n",
    "    except:\n",
    "        return None, None, None\n",
    "    return None, None, None\n",
    "\n",
    "for col in date_cols:\n",
    "    extracted_dates = df[col].astype(str).apply(extract_shamsi_date_parts)\n",
    "    df.insert(df.columns.get_loc(col) + 1, f'{col}_Year', extracted_dates.apply(lambda x: x[0]))\n",
    "    df.insert(df.columns.get_loc(col) + 2, f'{col}_Month', extracted_dates.apply(lambda x: x[1]))\n",
    "    df.insert(df.columns.get_loc(col) + 3, f'{col}_Day', extracted_dates.apply(lambda x: x[2]))"
   ]
  },
  {
   "cell_type": "code",
   "execution_count": 73,
   "id": "1ea08266",
   "metadata": {},
   "outputs": [],
   "source": [
    "### 6. Normalization & Standardization ###\n",
    "# Exclude label-encoded and datetime columns from normalization\n",
    "excluded_cols = label_encoding_cols + [f'{col}_Encoded' for col in label_encoding_cols] + date_cols + [f'{col}_Year' for col in date_cols] + [f'{col}_Month' for col in date_cols] + [f'{col}_Day' for col in date_cols] + [f'{col}_Hour' for col in date_cols] + [f'{col}_Minute' for col in date_cols] + [f'{col}_Second' for col in date_cols]\n",
    "numeric_cols = [col for col in df.select_dtypes(include=['int64', 'float64']).columns if col not in excluded_cols]\n",
    "scaler = MinMaxScaler()\n",
    "df[numeric_cols] = scaler.fit_transform(df[numeric_cols])"
   ]
  },
  {
   "cell_type": "code",
   "execution_count": 74,
   "id": "f7fc8bff",
   "metadata": {},
   "outputs": [
    {
     "data": {
      "text/html": [
       "<div>\n",
       "<style scoped>\n",
       "    .dataframe tbody tr th:only-of-type {\n",
       "        vertical-align: middle;\n",
       "    }\n",
       "\n",
       "    .dataframe tbody tr th {\n",
       "        vertical-align: top;\n",
       "    }\n",
       "\n",
       "    .dataframe thead th {\n",
       "        text-align: right;\n",
       "    }\n",
       "</style>\n",
       "<table border=\"1\" class=\"dataframe\">\n",
       "  <thead>\n",
       "    <tr style=\"text-align: right;\">\n",
       "      <th></th>\n",
       "      <th>No. Previous Orders by Customer</th>\n",
       "      <th>Customer Join Date</th>\n",
       "      <th>Customer Join Date_Year</th>\n",
       "      <th>Customer Join Date_Month</th>\n",
       "      <th>Customer Join Date_Day</th>\n",
       "      <th>Parent Service Category</th>\n",
       "      <th>Parent Service Category_Encoded</th>\n",
       "      <th>Service Name</th>\n",
       "      <th>Service Name_Encoded</th>\n",
       "      <th>Order Status</th>\n",
       "      <th>...</th>\n",
       "      <th>Device</th>\n",
       "      <th>Device_android</th>\n",
       "      <th>Device_ios</th>\n",
       "      <th>Device_web</th>\n",
       "      <th>Price</th>\n",
       "      <th>Discount</th>\n",
       "      <th>Quoted Task?</th>\n",
       "      <th>Quoted Task?_AUTOMATIC_ALLOCATION</th>\n",
       "      <th>Quoted Task?_FAVORITE_ALLOCATION</th>\n",
       "      <th>Quoted Task?_MANUAL_ALLOCATION</th>\n",
       "    </tr>\n",
       "  </thead>\n",
       "  <tbody>\n",
       "    <tr>\n",
       "      <th>0</th>\n",
       "      <td>0.130435</td>\n",
       "      <td>1396-06-09 11:51:32.505950+04:30</td>\n",
       "      <td>1396</td>\n",
       "      <td>6</td>\n",
       "      <td>9</td>\n",
       "      <td>نظافت و پذیرایی</td>\n",
       "      <td>25</td>\n",
       "      <td>نظافت راه‌ پله</td>\n",
       "      <td>194</td>\n",
       "      <td>ثبت‌ شده</td>\n",
       "      <td>...</td>\n",
       "      <td>android</td>\n",
       "      <td>1.0</td>\n",
       "      <td>0.0</td>\n",
       "      <td>0.0</td>\n",
       "      <td>0.400000</td>\n",
       "      <td>0.0</td>\n",
       "      <td>AUTOMATIC_ALLOCATION</td>\n",
       "      <td>1.0</td>\n",
       "      <td>0.0</td>\n",
       "      <td>0.0</td>\n",
       "    </tr>\n",
       "    <tr>\n",
       "      <th>1</th>\n",
       "      <td>0.000000</td>\n",
       "      <td>1400-06-24 02:54:34.549933+04:30</td>\n",
       "      <td>1400</td>\n",
       "      <td>6</td>\n",
       "      <td>24</td>\n",
       "      <td>دکوراسیون و بازسازی</td>\n",
       "      <td>17</td>\n",
       "      <td>بنایی</td>\n",
       "      <td>33</td>\n",
       "      <td>Achar_Pending</td>\n",
       "      <td>...</td>\n",
       "      <td>android</td>\n",
       "      <td>1.0</td>\n",
       "      <td>0.0</td>\n",
       "      <td>0.0</td>\n",
       "      <td>0.000000</td>\n",
       "      <td>0.0</td>\n",
       "      <td>MANUAL_ALLOCATION</td>\n",
       "      <td>0.0</td>\n",
       "      <td>0.0</td>\n",
       "      <td>1.0</td>\n",
       "    </tr>\n",
       "    <tr>\n",
       "      <th>2</th>\n",
       "      <td>0.000000</td>\n",
       "      <td>1400-06-24 02:46:15.891303+04:30</td>\n",
       "      <td>1400</td>\n",
       "      <td>6</td>\n",
       "      <td>24</td>\n",
       "      <td>نصب و تعمیر لوازم خانگی</td>\n",
       "      <td>24</td>\n",
       "      <td>نصب و تعمیر یخچال و فریزر</td>\n",
       "      <td>188</td>\n",
       "      <td>ثبت‌ شده</td>\n",
       "      <td>...</td>\n",
       "      <td>android</td>\n",
       "      <td>1.0</td>\n",
       "      <td>0.0</td>\n",
       "      <td>0.0</td>\n",
       "      <td>0.000000</td>\n",
       "      <td>0.0</td>\n",
       "      <td>MANUAL_ALLOCATION</td>\n",
       "      <td>0.0</td>\n",
       "      <td>0.0</td>\n",
       "      <td>1.0</td>\n",
       "    </tr>\n",
       "    <tr>\n",
       "      <th>3</th>\n",
       "      <td>0.000000</td>\n",
       "      <td>1397-03-16 14:28:00.764511+04:30</td>\n",
       "      <td>1397</td>\n",
       "      <td>3</td>\n",
       "      <td>16</td>\n",
       "      <td>تعمیرات خودرو</td>\n",
       "      <td>8</td>\n",
       "      <td>صافکاری و نقاشی</td>\n",
       "      <td>133</td>\n",
       "      <td>ثبت‌ شده</td>\n",
       "      <td>...</td>\n",
       "      <td>android</td>\n",
       "      <td>1.0</td>\n",
       "      <td>0.0</td>\n",
       "      <td>0.0</td>\n",
       "      <td>0.000000</td>\n",
       "      <td>0.0</td>\n",
       "      <td>MANUAL_ALLOCATION</td>\n",
       "      <td>0.0</td>\n",
       "      <td>0.0</td>\n",
       "      <td>1.0</td>\n",
       "    </tr>\n",
       "    <tr>\n",
       "      <th>4</th>\n",
       "      <td>0.000000</td>\n",
       "      <td>1400-06-24 02:26:08.327191+04:30</td>\n",
       "      <td>1400</td>\n",
       "      <td>6</td>\n",
       "      <td>24</td>\n",
       "      <td>دکوراسیون و بازسازی</td>\n",
       "      <td>17</td>\n",
       "      <td>بنایی</td>\n",
       "      <td>33</td>\n",
       "      <td>لغو شده</td>\n",
       "      <td>...</td>\n",
       "      <td>android</td>\n",
       "      <td>1.0</td>\n",
       "      <td>0.0</td>\n",
       "      <td>0.0</td>\n",
       "      <td>0.000000</td>\n",
       "      <td>0.0</td>\n",
       "      <td>MANUAL_ALLOCATION</td>\n",
       "      <td>0.0</td>\n",
       "      <td>0.0</td>\n",
       "      <td>1.0</td>\n",
       "    </tr>\n",
       "    <tr>\n",
       "      <th>...</th>\n",
       "      <td>...</td>\n",
       "      <td>...</td>\n",
       "      <td>...</td>\n",
       "      <td>...</td>\n",
       "      <td>...</td>\n",
       "      <td>...</td>\n",
       "      <td>...</td>\n",
       "      <td>...</td>\n",
       "      <td>...</td>\n",
       "      <td>...</td>\n",
       "      <td>...</td>\n",
       "      <td>...</td>\n",
       "      <td>...</td>\n",
       "      <td>...</td>\n",
       "      <td>...</td>\n",
       "      <td>...</td>\n",
       "      <td>...</td>\n",
       "      <td>...</td>\n",
       "      <td>...</td>\n",
       "      <td>...</td>\n",
       "      <td>...</td>\n",
       "    </tr>\n",
       "    <tr>\n",
       "      <th>15348</th>\n",
       "      <td>0.217391</td>\n",
       "      <td>1397-12-20 08:14:12.107241+03:30</td>\n",
       "      <td>1397</td>\n",
       "      <td>12</td>\n",
       "      <td>20</td>\n",
       "      <td>دکوراسیون و بازسازی</td>\n",
       "      <td>17</td>\n",
       "      <td>تعمیر و نصب کابینت</td>\n",
       "      <td>62</td>\n",
       "      <td>پیدا نشد</td>\n",
       "      <td>...</td>\n",
       "      <td>android</td>\n",
       "      <td>1.0</td>\n",
       "      <td>0.0</td>\n",
       "      <td>0.0</td>\n",
       "      <td>0.000000</td>\n",
       "      <td>0.0</td>\n",
       "      <td>AUTOMATIC_ALLOCATION</td>\n",
       "      <td>1.0</td>\n",
       "      <td>0.0</td>\n",
       "      <td>0.0</td>\n",
       "    </tr>\n",
       "    <tr>\n",
       "      <th>15349</th>\n",
       "      <td>0.086957</td>\n",
       "      <td>1399-03-12 09:02:46.650380+04:30</td>\n",
       "      <td>1399</td>\n",
       "      <td>3</td>\n",
       "      <td>12</td>\n",
       "      <td>دکوراسیون و بازسازی</td>\n",
       "      <td>17</td>\n",
       "      <td>بنایی</td>\n",
       "      <td>33</td>\n",
       "      <td>پیدا نشد</td>\n",
       "      <td>...</td>\n",
       "      <td>web</td>\n",
       "      <td>0.0</td>\n",
       "      <td>0.0</td>\n",
       "      <td>1.0</td>\n",
       "      <td>0.000000</td>\n",
       "      <td>0.0</td>\n",
       "      <td>MANUAL_ALLOCATION</td>\n",
       "      <td>0.0</td>\n",
       "      <td>0.0</td>\n",
       "      <td>1.0</td>\n",
       "    </tr>\n",
       "    <tr>\n",
       "      <th>15350</th>\n",
       "      <td>0.086957</td>\n",
       "      <td>1399-03-11 11:54:27.008224+04:30</td>\n",
       "      <td>1399</td>\n",
       "      <td>3</td>\n",
       "      <td>11</td>\n",
       "      <td>نظافت و پذیرایی</td>\n",
       "      <td>25</td>\n",
       "      <td>خدمات عادی نظافت</td>\n",
       "      <td>89</td>\n",
       "      <td>پیدا نشد</td>\n",
       "      <td>...</td>\n",
       "      <td>web</td>\n",
       "      <td>0.0</td>\n",
       "      <td>0.0</td>\n",
       "      <td>1.0</td>\n",
       "      <td>0.177778</td>\n",
       "      <td>0.0</td>\n",
       "      <td>AUTOMATIC_ALLOCATION</td>\n",
       "      <td>1.0</td>\n",
       "      <td>0.0</td>\n",
       "      <td>0.0</td>\n",
       "    </tr>\n",
       "    <tr>\n",
       "      <th>15351</th>\n",
       "      <td>0.304348</td>\n",
       "      <td>1398-09-04 19:35:23.226869+03:30</td>\n",
       "      <td>1398</td>\n",
       "      <td>9</td>\n",
       "      <td>4</td>\n",
       "      <td>شستشو</td>\n",
       "      <td>20</td>\n",
       "      <td>قالیشویی</td>\n",
       "      <td>145</td>\n",
       "      <td>پیدا نشد</td>\n",
       "      <td>...</td>\n",
       "      <td>android</td>\n",
       "      <td>1.0</td>\n",
       "      <td>0.0</td>\n",
       "      <td>0.0</td>\n",
       "      <td>0.000000</td>\n",
       "      <td>0.0</td>\n",
       "      <td>MANUAL_ALLOCATION</td>\n",
       "      <td>0.0</td>\n",
       "      <td>0.0</td>\n",
       "      <td>1.0</td>\n",
       "    </tr>\n",
       "    <tr>\n",
       "      <th>15352</th>\n",
       "      <td>0.434783</td>\n",
       "      <td>1397-08-14 19:01:50.168271+03:30</td>\n",
       "      <td>1397</td>\n",
       "      <td>8</td>\n",
       "      <td>14</td>\n",
       "      <td>آموزش</td>\n",
       "      <td>1</td>\n",
       "      <td>آموزش موسیقی</td>\n",
       "      <td>9</td>\n",
       "      <td>لغو شده</td>\n",
       "      <td>...</td>\n",
       "      <td>android</td>\n",
       "      <td>1.0</td>\n",
       "      <td>0.0</td>\n",
       "      <td>0.0</td>\n",
       "      <td>0.000000</td>\n",
       "      <td>0.0</td>\n",
       "      <td>AUTOMATIC_ALLOCATION</td>\n",
       "      <td>1.0</td>\n",
       "      <td>0.0</td>\n",
       "      <td>0.0</td>\n",
       "    </tr>\n",
       "  </tbody>\n",
       "</table>\n",
       "<p>13124 rows × 37 columns</p>\n",
       "</div>"
      ],
      "text/plain": [
       "       No. Previous Orders by Customer                Customer Join Date  \\\n",
       "0                             0.130435  1396-06-09 11:51:32.505950+04:30   \n",
       "1                             0.000000  1400-06-24 02:54:34.549933+04:30   \n",
       "2                             0.000000  1400-06-24 02:46:15.891303+04:30   \n",
       "3                             0.000000  1397-03-16 14:28:00.764511+04:30   \n",
       "4                             0.000000  1400-06-24 02:26:08.327191+04:30   \n",
       "...                                ...                               ...   \n",
       "15348                         0.217391  1397-12-20 08:14:12.107241+03:30   \n",
       "15349                         0.086957  1399-03-12 09:02:46.650380+04:30   \n",
       "15350                         0.086957  1399-03-11 11:54:27.008224+04:30   \n",
       "15351                         0.304348  1398-09-04 19:35:23.226869+03:30   \n",
       "15352                         0.434783  1397-08-14 19:01:50.168271+03:30   \n",
       "\n",
       "       Customer Join Date_Year  Customer Join Date_Month  \\\n",
       "0                         1396                         6   \n",
       "1                         1400                         6   \n",
       "2                         1400                         6   \n",
       "3                         1397                         3   \n",
       "4                         1400                         6   \n",
       "...                        ...                       ...   \n",
       "15348                     1397                        12   \n",
       "15349                     1399                         3   \n",
       "15350                     1399                         3   \n",
       "15351                     1398                         9   \n",
       "15352                     1397                         8   \n",
       "\n",
       "       Customer Join Date_Day  Parent Service Category  \\\n",
       "0                           9          نظافت و پذیرایی   \n",
       "1                          24      دکوراسیون و بازسازی   \n",
       "2                          24  نصب و تعمیر لوازم خانگی   \n",
       "3                          16            تعمیرات خودرو   \n",
       "4                          24      دکوراسیون و بازسازی   \n",
       "...                       ...                      ...   \n",
       "15348                      20      دکوراسیون و بازسازی   \n",
       "15349                      12      دکوراسیون و بازسازی   \n",
       "15350                      11          نظافت و پذیرایی   \n",
       "15351                       4                    شستشو   \n",
       "15352                      14                    آموزش   \n",
       "\n",
       "       Parent Service Category_Encoded               Service Name  \\\n",
       "0                                   25             نظافت راه‌ پله   \n",
       "1                                   17                      بنایی   \n",
       "2                                   24  نصب و تعمیر یخچال و فریزر   \n",
       "3                                    8            صافکاری و نقاشی   \n",
       "4                                   17                      بنایی   \n",
       "...                                ...                        ...   \n",
       "15348                               17         تعمیر و نصب کابینت   \n",
       "15349                               17                      بنایی   \n",
       "15350                               25           خدمات عادی نظافت   \n",
       "15351                               20                   قالیشویی   \n",
       "15352                                1               آموزش موسیقی   \n",
       "\n",
       "       Service Name_Encoded   Order Status  ...   Device Device_android  \\\n",
       "0                       194       ثبت‌ شده  ...  android            1.0   \n",
       "1                        33  Achar_Pending  ...  android            1.0   \n",
       "2                       188       ثبت‌ شده  ...  android            1.0   \n",
       "3                       133       ثبت‌ شده  ...  android            1.0   \n",
       "4                        33        لغو شده  ...  android            1.0   \n",
       "...                     ...            ...  ...      ...            ...   \n",
       "15348                    62       پیدا نشد  ...  android            1.0   \n",
       "15349                    33       پیدا نشد  ...      web            0.0   \n",
       "15350                    89       پیدا نشد  ...      web            0.0   \n",
       "15351                   145       پیدا نشد  ...  android            1.0   \n",
       "15352                     9        لغو شده  ...  android            1.0   \n",
       "\n",
       "       Device_ios Device_web     Price Discount          Quoted Task?  \\\n",
       "0             0.0        0.0  0.400000      0.0  AUTOMATIC_ALLOCATION   \n",
       "1             0.0        0.0  0.000000      0.0     MANUAL_ALLOCATION   \n",
       "2             0.0        0.0  0.000000      0.0     MANUAL_ALLOCATION   \n",
       "3             0.0        0.0  0.000000      0.0     MANUAL_ALLOCATION   \n",
       "4             0.0        0.0  0.000000      0.0     MANUAL_ALLOCATION   \n",
       "...           ...        ...       ...      ...                   ...   \n",
       "15348         0.0        0.0  0.000000      0.0  AUTOMATIC_ALLOCATION   \n",
       "15349         0.0        1.0  0.000000      0.0     MANUAL_ALLOCATION   \n",
       "15350         0.0        1.0  0.177778      0.0  AUTOMATIC_ALLOCATION   \n",
       "15351         0.0        0.0  0.000000      0.0     MANUAL_ALLOCATION   \n",
       "15352         0.0        0.0  0.000000      0.0  AUTOMATIC_ALLOCATION   \n",
       "\n",
       "       Quoted Task?_AUTOMATIC_ALLOCATION  Quoted Task?_FAVORITE_ALLOCATION  \\\n",
       "0                                    1.0                               0.0   \n",
       "1                                    0.0                               0.0   \n",
       "2                                    0.0                               0.0   \n",
       "3                                    0.0                               0.0   \n",
       "4                                    0.0                               0.0   \n",
       "...                                  ...                               ...   \n",
       "15348                                1.0                               0.0   \n",
       "15349                                0.0                               0.0   \n",
       "15350                                1.0                               0.0   \n",
       "15351                                0.0                               0.0   \n",
       "15352                                1.0                               0.0   \n",
       "\n",
       "      Quoted Task?_MANUAL_ALLOCATION  \n",
       "0                                0.0  \n",
       "1                                1.0  \n",
       "2                                1.0  \n",
       "3                                1.0  \n",
       "4                                1.0  \n",
       "...                              ...  \n",
       "15348                            0.0  \n",
       "15349                            1.0  \n",
       "15350                            0.0  \n",
       "15351                            1.0  \n",
       "15352                            0.0  \n",
       "\n",
       "[13124 rows x 37 columns]"
      ]
     },
     "execution_count": 74,
     "metadata": {},
     "output_type": "execute_result"
    }
   ],
   "source": [
    "df"
   ]
  },
  {
   "cell_type": "markdown",
   "id": "95c436bf",
   "metadata": {},
   "source": [
    "### Pie Chart of Order Status Distribution\n",
    "This pie chart shows the proportion of different order statuses in the dataset, helping to understand the frequency of cancellations, completed orders, and other statuses."
   ]
  },
  {
   "cell_type": "code",
   "execution_count": 75,
   "id": "d320b934",
   "metadata": {},
   "outputs": [
    {
     "name": "stderr",
     "output_type": "stream",
     "text": [
      "c:\\Users\\SARIR\\AppData\\Local\\Programs\\Python\\Python313\\Lib\\site-packages\\IPython\\core\\pylabtools.py:170: UserWarning:\n",
      "\n",
      "Glyph 108 (l) missing from font(s) B Nazanin.\n",
      "\n",
      "c:\\Users\\SARIR\\AppData\\Local\\Programs\\Python\\Python313\\Lib\\site-packages\\IPython\\core\\pylabtools.py:170: UserWarning:\n",
      "\n",
      "Glyph 112 (p) missing from font(s) B Nazanin.\n",
      "\n",
      "c:\\Users\\SARIR\\AppData\\Local\\Programs\\Python\\Python313\\Lib\\site-packages\\IPython\\core\\pylabtools.py:170: UserWarning:\n",
      "\n",
      "Glyph 99 (c) missing from font(s) B Nazanin.\n",
      "\n",
      "c:\\Users\\SARIR\\AppData\\Local\\Programs\\Python\\Python313\\Lib\\site-packages\\IPython\\core\\pylabtools.py:170: UserWarning:\n",
      "\n",
      "Glyph 111 (o) missing from font(s) B Nazanin.\n",
      "\n",
      "c:\\Users\\SARIR\\AppData\\Local\\Programs\\Python\\Python313\\Lib\\site-packages\\IPython\\core\\pylabtools.py:170: UserWarning:\n",
      "\n",
      "Glyph 117 (u) missing from font(s) B Nazanin.\n",
      "\n",
      "c:\\Users\\SARIR\\AppData\\Local\\Programs\\Python\\Python313\\Lib\\site-packages\\IPython\\core\\pylabtools.py:170: UserWarning:\n",
      "\n",
      "Glyph 110 (n) missing from font(s) B Nazanin.\n",
      "\n",
      "c:\\Users\\SARIR\\AppData\\Local\\Programs\\Python\\Python313\\Lib\\site-packages\\IPython\\core\\pylabtools.py:170: UserWarning:\n",
      "\n",
      "Glyph 116 (t) missing from font(s) B Nazanin.\n",
      "\n",
      "c:\\Users\\SARIR\\AppData\\Local\\Programs\\Python\\Python313\\Lib\\site-packages\\IPython\\core\\pylabtools.py:170: UserWarning:\n",
      "\n",
      "Glyph 79 (O) missing from font(s) B Nazanin.\n",
      "\n",
      "c:\\Users\\SARIR\\AppData\\Local\\Programs\\Python\\Python313\\Lib\\site-packages\\IPython\\core\\pylabtools.py:170: UserWarning:\n",
      "\n",
      "Glyph 114 (r) missing from font(s) B Nazanin.\n",
      "\n",
      "c:\\Users\\SARIR\\AppData\\Local\\Programs\\Python\\Python313\\Lib\\site-packages\\IPython\\core\\pylabtools.py:170: UserWarning:\n",
      "\n",
      "Glyph 100 (d) missing from font(s) B Nazanin.\n",
      "\n",
      "c:\\Users\\SARIR\\AppData\\Local\\Programs\\Python\\Python313\\Lib\\site-packages\\IPython\\core\\pylabtools.py:170: UserWarning:\n",
      "\n",
      "Glyph 101 (e) missing from font(s) B Nazanin.\n",
      "\n",
      "c:\\Users\\SARIR\\AppData\\Local\\Programs\\Python\\Python313\\Lib\\site-packages\\IPython\\core\\pylabtools.py:170: UserWarning:\n",
      "\n",
      "Glyph 83 (S) missing from font(s) B Nazanin.\n",
      "\n",
      "c:\\Users\\SARIR\\AppData\\Local\\Programs\\Python\\Python313\\Lib\\site-packages\\IPython\\core\\pylabtools.py:170: UserWarning:\n",
      "\n",
      "Glyph 97 (a) missing from font(s) B Nazanin.\n",
      "\n",
      "c:\\Users\\SARIR\\AppData\\Local\\Programs\\Python\\Python313\\Lib\\site-packages\\IPython\\core\\pylabtools.py:170: UserWarning:\n",
      "\n",
      "Glyph 115 (s) missing from font(s) B Nazanin.\n",
      "\n",
      "c:\\Users\\SARIR\\AppData\\Local\\Programs\\Python\\Python313\\Lib\\site-packages\\IPython\\core\\pylabtools.py:170: UserWarning:\n",
      "\n",
      "Glyph 68 (D) missing from font(s) B Nazanin.\n",
      "\n",
      "c:\\Users\\SARIR\\AppData\\Local\\Programs\\Python\\Python313\\Lib\\site-packages\\IPython\\core\\pylabtools.py:170: UserWarning:\n",
      "\n",
      "Glyph 105 (i) missing from font(s) B Nazanin.\n",
      "\n",
      "c:\\Users\\SARIR\\AppData\\Local\\Programs\\Python\\Python313\\Lib\\site-packages\\IPython\\core\\pylabtools.py:170: UserWarning:\n",
      "\n",
      "Glyph 98 (b) missing from font(s) B Nazanin.\n",
      "\n",
      "c:\\Users\\SARIR\\AppData\\Local\\Programs\\Python\\Python313\\Lib\\site-packages\\IPython\\core\\pylabtools.py:170: UserWarning:\n",
      "\n",
      "Glyph 73 (I) missing from font(s) B Nazanin.\n",
      "\n",
      "c:\\Users\\SARIR\\AppData\\Local\\Programs\\Python\\Python313\\Lib\\site-packages\\IPython\\core\\pylabtools.py:170: UserWarning:\n",
      "\n",
      "Glyph 95 (_) missing from font(s) B Nazanin.\n",
      "\n",
      "c:\\Users\\SARIR\\AppData\\Local\\Programs\\Python\\Python313\\Lib\\site-packages\\IPython\\core\\pylabtools.py:170: UserWarning:\n",
      "\n",
      "Glyph 80 (P) missing from font(s) B Nazanin.\n",
      "\n",
      "c:\\Users\\SARIR\\AppData\\Local\\Programs\\Python\\Python313\\Lib\\site-packages\\IPython\\core\\pylabtools.py:170: UserWarning:\n",
      "\n",
      "Glyph 103 (g) missing from font(s) B Nazanin.\n",
      "\n",
      "c:\\Users\\SARIR\\AppData\\Local\\Programs\\Python\\Python313\\Lib\\site-packages\\IPython\\core\\pylabtools.py:170: UserWarning:\n",
      "\n",
      "Glyph 65 (A) missing from font(s) B Nazanin.\n",
      "\n",
      "c:\\Users\\SARIR\\AppData\\Local\\Programs\\Python\\Python313\\Lib\\site-packages\\IPython\\core\\pylabtools.py:170: UserWarning:\n",
      "\n",
      "Glyph 104 (h) missing from font(s) B Nazanin.\n",
      "\n",
      "c:\\Users\\SARIR\\AppData\\Local\\Programs\\Python\\Python313\\Lib\\site-packages\\IPython\\core\\pylabtools.py:170: UserWarning:\n",
      "\n",
      "Glyph 76 (L) missing from font(s) B Nazanin.\n",
      "\n",
      "c:\\Users\\SARIR\\AppData\\Local\\Programs\\Python\\Python313\\Lib\\site-packages\\IPython\\core\\pylabtools.py:170: UserWarning:\n",
      "\n",
      "Glyph 67 (C) missing from font(s) B Nazanin.\n",
      "\n",
      "c:\\Users\\SARIR\\AppData\\Local\\Programs\\Python\\Python313\\Lib\\site-packages\\IPython\\core\\pylabtools.py:170: UserWarning:\n",
      "\n",
      "Glyph 121 (y) missing from font(s) B Nazanin.\n",
      "\n"
     ]
    },
    {
     "data": {
      "image/png": "[encoded data removed]",
      "text/plain": [
       "<Figure size 700x700 with 1 Axes>"
      ]
     },
     "metadata": {},
     "output_type": "display_data"
    }
   ],
   "source": [
    "plt.figure(figsize=(7,7))\n",
    "df['Order Status'].value_counts().plot.pie(autopct='%1.1f%%')\n",
    "plt.title('Order Status Distribution')\n",
    "plt.show()"
   ]
  },
  {
   "cell_type": "markdown",
   "id": "7b915335",
   "metadata": {},
   "source": [
    "### Box Plot of Normalized Features\n",
    "Box plots help identify the distribution and outliers of the numeric features after normalization."
   ]
  },
  {
   "cell_type": "code",
   "execution_count": 76,
   "id": "ec0efc49",
   "metadata": {},
   "outputs": [
    {
     "name": "stderr",
     "output_type": "stream",
     "text": [
      "c:\\Users\\SARIR\\AppData\\Local\\Programs\\Python\\Python313\\Lib\\site-packages\\IPython\\core\\pylabtools.py:170: UserWarning:\n",
      "\n",
      "Glyph 108 (l) missing from font(s) B Nazanin.\n",
      "\n",
      "c:\\Users\\SARIR\\AppData\\Local\\Programs\\Python\\Python313\\Lib\\site-packages\\IPython\\core\\pylabtools.py:170: UserWarning:\n",
      "\n",
      "Glyph 112 (p) missing from font(s) B Nazanin.\n",
      "\n",
      "c:\\Users\\SARIR\\AppData\\Local\\Programs\\Python\\Python313\\Lib\\site-packages\\IPython\\core\\pylabtools.py:170: UserWarning:\n",
      "\n",
      "Glyph 66 (B) missing from font(s) B Nazanin.\n",
      "\n",
      "c:\\Users\\SARIR\\AppData\\Local\\Programs\\Python\\Python313\\Lib\\site-packages\\IPython\\core\\pylabtools.py:170: UserWarning:\n",
      "\n",
      "Glyph 111 (o) missing from font(s) B Nazanin.\n",
      "\n",
      "c:\\Users\\SARIR\\AppData\\Local\\Programs\\Python\\Python313\\Lib\\site-packages\\IPython\\core\\pylabtools.py:170: UserWarning:\n",
      "\n",
      "Glyph 120 (x) missing from font(s) B Nazanin.\n",
      "\n",
      "c:\\Users\\SARIR\\AppData\\Local\\Programs\\Python\\Python313\\Lib\\site-packages\\IPython\\core\\pylabtools.py:170: UserWarning:\n",
      "\n",
      "Glyph 116 (t) missing from font(s) B Nazanin.\n",
      "\n",
      "c:\\Users\\SARIR\\AppData\\Local\\Programs\\Python\\Python313\\Lib\\site-packages\\IPython\\core\\pylabtools.py:170: UserWarning:\n",
      "\n",
      "Glyph 102 (f) missing from font(s) B Nazanin.\n",
      "\n",
      "c:\\Users\\SARIR\\AppData\\Local\\Programs\\Python\\Python313\\Lib\\site-packages\\IPython\\core\\pylabtools.py:170: UserWarning:\n",
      "\n",
      "Glyph 78 (N) missing from font(s) B Nazanin.\n",
      "\n",
      "c:\\Users\\SARIR\\AppData\\Local\\Programs\\Python\\Python313\\Lib\\site-packages\\IPython\\core\\pylabtools.py:170: UserWarning:\n",
      "\n",
      "Glyph 114 (r) missing from font(s) B Nazanin.\n",
      "\n",
      "c:\\Users\\SARIR\\AppData\\Local\\Programs\\Python\\Python313\\Lib\\site-packages\\IPython\\core\\pylabtools.py:170: UserWarning:\n",
      "\n",
      "Glyph 109 (m) missing from font(s) B Nazanin.\n",
      "\n",
      "c:\\Users\\SARIR\\AppData\\Local\\Programs\\Python\\Python313\\Lib\\site-packages\\IPython\\core\\pylabtools.py:170: UserWarning:\n",
      "\n",
      "Glyph 97 (a) missing from font(s) B Nazanin.\n",
      "\n",
      "c:\\Users\\SARIR\\AppData\\Local\\Programs\\Python\\Python313\\Lib\\site-packages\\IPython\\core\\pylabtools.py:170: UserWarning:\n",
      "\n",
      "Glyph 105 (i) missing from font(s) B Nazanin.\n",
      "\n",
      "c:\\Users\\SARIR\\AppData\\Local\\Programs\\Python\\Python313\\Lib\\site-packages\\IPython\\core\\pylabtools.py:170: UserWarning:\n",
      "\n",
      "Glyph 122 (z) missing from font(s) B Nazanin.\n",
      "\n",
      "c:\\Users\\SARIR\\AppData\\Local\\Programs\\Python\\Python313\\Lib\\site-packages\\IPython\\core\\pylabtools.py:170: UserWarning:\n",
      "\n",
      "Glyph 101 (e) missing from font(s) B Nazanin.\n",
      "\n",
      "c:\\Users\\SARIR\\AppData\\Local\\Programs\\Python\\Python313\\Lib\\site-packages\\IPython\\core\\pylabtools.py:170: UserWarning:\n",
      "\n",
      "Glyph 100 (d) missing from font(s) B Nazanin.\n",
      "\n",
      "c:\\Users\\SARIR\\AppData\\Local\\Programs\\Python\\Python313\\Lib\\site-packages\\IPython\\core\\pylabtools.py:170: UserWarning:\n",
      "\n",
      "Glyph 70 (F) missing from font(s) B Nazanin.\n",
      "\n",
      "c:\\Users\\SARIR\\AppData\\Local\\Programs\\Python\\Python313\\Lib\\site-packages\\IPython\\core\\pylabtools.py:170: UserWarning:\n",
      "\n",
      "Glyph 117 (u) missing from font(s) B Nazanin.\n",
      "\n",
      "c:\\Users\\SARIR\\AppData\\Local\\Programs\\Python\\Python313\\Lib\\site-packages\\IPython\\core\\pylabtools.py:170: UserWarning:\n",
      "\n",
      "Glyph 115 (s) missing from font(s) B Nazanin.\n",
      "\n",
      "c:\\Users\\SARIR\\AppData\\Local\\Programs\\Python\\Python313\\Lib\\site-packages\\IPython\\core\\pylabtools.py:170: UserWarning:\n",
      "\n",
      "Glyph 80 (P) missing from font(s) B Nazanin.\n",
      "\n",
      "c:\\Users\\SARIR\\AppData\\Local\\Programs\\Python\\Python313\\Lib\\site-packages\\IPython\\core\\pylabtools.py:170: UserWarning:\n",
      "\n",
      "Glyph 118 (v) missing from font(s) B Nazanin.\n",
      "\n",
      "c:\\Users\\SARIR\\AppData\\Local\\Programs\\Python\\Python313\\Lib\\site-packages\\IPython\\core\\pylabtools.py:170: UserWarning:\n",
      "\n",
      "Glyph 79 (O) missing from font(s) B Nazanin.\n",
      "\n",
      "c:\\Users\\SARIR\\AppData\\Local\\Programs\\Python\\Python313\\Lib\\site-packages\\IPython\\core\\pylabtools.py:170: UserWarning:\n",
      "\n",
      "Glyph 98 (b) missing from font(s) B Nazanin.\n",
      "\n",
      "c:\\Users\\SARIR\\AppData\\Local\\Programs\\Python\\Python313\\Lib\\site-packages\\IPython\\core\\pylabtools.py:170: UserWarning:\n",
      "\n",
      "Glyph 121 (y) missing from font(s) B Nazanin.\n",
      "\n",
      "c:\\Users\\SARIR\\AppData\\Local\\Programs\\Python\\Python313\\Lib\\site-packages\\IPython\\core\\pylabtools.py:170: UserWarning:\n",
      "\n",
      "Glyph 67 (C) missing from font(s) B Nazanin.\n",
      "\n",
      "c:\\Users\\SARIR\\AppData\\Local\\Programs\\Python\\Python313\\Lib\\site-packages\\IPython\\core\\pylabtools.py:170: UserWarning:\n",
      "\n",
      "Glyph 74 (J) missing from font(s) B Nazanin.\n",
      "\n",
      "c:\\Users\\SARIR\\AppData\\Local\\Programs\\Python\\Python313\\Lib\\site-packages\\IPython\\core\\pylabtools.py:170: UserWarning:\n",
      "\n",
      "Glyph 110 (n) missing from font(s) B Nazanin.\n",
      "\n",
      "c:\\Users\\SARIR\\AppData\\Local\\Programs\\Python\\Python313\\Lib\\site-packages\\IPython\\core\\pylabtools.py:170: UserWarning:\n",
      "\n",
      "Glyph 68 (D) missing from font(s) B Nazanin.\n",
      "\n",
      "c:\\Users\\SARIR\\AppData\\Local\\Programs\\Python\\Python313\\Lib\\site-packages\\IPython\\core\\pylabtools.py:170: UserWarning:\n",
      "\n",
      "Glyph 95 (_) missing from font(s) B Nazanin.\n",
      "\n",
      "c:\\Users\\SARIR\\AppData\\Local\\Programs\\Python\\Python313\\Lib\\site-packages\\IPython\\core\\pylabtools.py:170: UserWarning:\n",
      "\n",
      "Glyph 89 (Y) missing from font(s) B Nazanin.\n",
      "\n",
      "c:\\Users\\SARIR\\AppData\\Local\\Programs\\Python\\Python313\\Lib\\site-packages\\IPython\\core\\pylabtools.py:170: UserWarning:\n",
      "\n",
      "Glyph 77 (M) missing from font(s) B Nazanin.\n",
      "\n",
      "c:\\Users\\SARIR\\AppData\\Local\\Programs\\Python\\Python313\\Lib\\site-packages\\IPython\\core\\pylabtools.py:170: UserWarning:\n",
      "\n",
      "Glyph 104 (h) missing from font(s) B Nazanin.\n",
      "\n",
      "c:\\Users\\SARIR\\AppData\\Local\\Programs\\Python\\Python313\\Lib\\site-packages\\IPython\\core\\pylabtools.py:170: UserWarning:\n",
      "\n",
      "Glyph 83 (S) missing from font(s) B Nazanin.\n",
      "\n",
      "c:\\Users\\SARIR\\AppData\\Local\\Programs\\Python\\Python313\\Lib\\site-packages\\IPython\\core\\pylabtools.py:170: UserWarning:\n",
      "\n",
      "Glyph 99 (c) missing from font(s) B Nazanin.\n",
      "\n",
      "c:\\Users\\SARIR\\AppData\\Local\\Programs\\Python\\Python313\\Lib\\site-packages\\IPython\\core\\pylabtools.py:170: UserWarning:\n",
      "\n",
      "Glyph 103 (g) missing from font(s) B Nazanin.\n",
      "\n",
      "c:\\Users\\SARIR\\AppData\\Local\\Programs\\Python\\Python313\\Lib\\site-packages\\IPython\\core\\pylabtools.py:170: UserWarning:\n",
      "\n",
      "Glyph 69 (E) missing from font(s) B Nazanin.\n",
      "\n",
      "c:\\Users\\SARIR\\AppData\\Local\\Programs\\Python\\Python313\\Lib\\site-packages\\IPython\\core\\pylabtools.py:170: UserWarning:\n",
      "\n",
      "Glyph 82 (R) missing from font(s) B Nazanin.\n",
      "\n",
      "c:\\Users\\SARIR\\AppData\\Local\\Programs\\Python\\Python313\\Lib\\site-packages\\IPython\\core\\pylabtools.py:170: UserWarning:\n",
      "\n",
      "Glyph 119 (w) missing from font(s) B Nazanin.\n",
      "\n",
      "c:\\Users\\SARIR\\AppData\\Local\\Programs\\Python\\Python313\\Lib\\site-packages\\IPython\\core\\pylabtools.py:170: UserWarning:\n",
      "\n",
      "Glyph 81 (Q) missing from font(s) B Nazanin.\n",
      "\n",
      "c:\\Users\\SARIR\\AppData\\Local\\Programs\\Python\\Python313\\Lib\\site-packages\\IPython\\core\\pylabtools.py:170: UserWarning:\n",
      "\n",
      "Glyph 84 (T) missing from font(s) B Nazanin.\n",
      "\n",
      "c:\\Users\\SARIR\\AppData\\Local\\Programs\\Python\\Python313\\Lib\\site-packages\\IPython\\core\\pylabtools.py:170: UserWarning:\n",
      "\n",
      "Glyph 107 (k) missing from font(s) B Nazanin.\n",
      "\n",
      "c:\\Users\\SARIR\\AppData\\Local\\Programs\\Python\\Python313\\Lib\\site-packages\\IPython\\core\\pylabtools.py:170: UserWarning:\n",
      "\n",
      "Glyph 63 (?) missing from font(s) B Nazanin.\n",
      "\n",
      "c:\\Users\\SARIR\\AppData\\Local\\Programs\\Python\\Python313\\Lib\\site-packages\\IPython\\core\\pylabtools.py:170: UserWarning:\n",
      "\n",
      "Glyph 65 (A) missing from font(s) B Nazanin.\n",
      "\n",
      "c:\\Users\\SARIR\\AppData\\Local\\Programs\\Python\\Python313\\Lib\\site-packages\\IPython\\core\\pylabtools.py:170: UserWarning:\n",
      "\n",
      "Glyph 85 (U) missing from font(s) B Nazanin.\n",
      "\n",
      "c:\\Users\\SARIR\\AppData\\Local\\Programs\\Python\\Python313\\Lib\\site-packages\\IPython\\core\\pylabtools.py:170: UserWarning:\n",
      "\n",
      "Glyph 73 (I) missing from font(s) B Nazanin.\n",
      "\n",
      "c:\\Users\\SARIR\\AppData\\Local\\Programs\\Python\\Python313\\Lib\\site-packages\\IPython\\core\\pylabtools.py:170: UserWarning:\n",
      "\n",
      "Glyph 76 (L) missing from font(s) B Nazanin.\n",
      "\n",
      "c:\\Users\\SARIR\\AppData\\Local\\Programs\\Python\\Python313\\Lib\\site-packages\\IPython\\core\\pylabtools.py:170: UserWarning:\n",
      "\n",
      "Glyph 86 (V) missing from font(s) B Nazanin.\n",
      "\n"
     ]
    },
    {
     "data": {
      "image/png": "[encoded data removed]",
      "text/plain": [
       "<Figure size 1000x600 with 1 Axes>"
      ]
     },
     "metadata": {},
     "output_type": "display_data"
    }
   ],
   "source": [
    "import seaborn as sns\n",
    "plt.figure(figsize=(10, 6))\n",
    "sns.boxplot(data=df)\n",
    "plt.xticks(rotation=90)\n",
    "plt.title('Boxplot of Normalized Features')\n",
    "plt.show()"
   ]
  },
  {
   "cell_type": "markdown",
   "id": "e0e1258a",
   "metadata": {},
   "source": [
    "### Line Chart of Prices Over Time\n",
    "A simple line chart to visualize price trends over time."
   ]
  },
  {
   "cell_type": "code",
   "execution_count": 77,
   "id": "ce297dbb",
   "metadata": {},
   "outputs": [
    {
     "data": {
      "image/png": "[encoded data removed]",
      "text/plain": [
       "<Figure size 1000x500 with 1 Axes>"
      ]
     },
     "metadata": {},
     "output_type": "display_data"
    }
   ],
   "source": [
    "plt.figure(figsize=(10, 5))\n",
    "df_sorted = df.sort_values(by='Creation Date_Year')\n",
    "plt.plot(df_sorted['Creation Date_Year'], df_sorted['Price'], marker='o', linestyle='-')\n",
    "plt.xlabel('Year')\n",
    "plt.ylabel('Price')\n",
    "plt.title('Price Trends Over Time')\n",
    "plt.grid()\n",
    "plt.show()"
   ]
  },
  {
   "cell_type": "markdown",
   "id": "2999c2e5",
   "metadata": {},
   "source": [
    "### Bar Chart of Orders per City\n",
    "This bar chart displays the number of orders from different cities."
   ]
  },
  {
   "cell_type": "code",
   "execution_count": 78,
   "id": "8933239d",
   "metadata": {},
   "outputs": [
    {
     "name": "stderr",
     "output_type": "stream",
     "text": [
      "c:\\Users\\SARIR\\AppData\\Local\\Programs\\Python\\Python313\\Lib\\site-packages\\IPython\\core\\pylabtools.py:170: UserWarning:\n",
      "\n",
      "Glyph 108 (l) missing from font(s) B Nazanin.\n",
      "\n",
      "c:\\Users\\SARIR\\AppData\\Local\\Programs\\Python\\Python313\\Lib\\site-packages\\IPython\\core\\pylabtools.py:170: UserWarning:\n",
      "\n",
      "Glyph 112 (p) missing from font(s) B Nazanin.\n",
      "\n",
      "c:\\Users\\SARIR\\AppData\\Local\\Programs\\Python\\Python313\\Lib\\site-packages\\IPython\\core\\pylabtools.py:170: UserWarning:\n",
      "\n",
      "Glyph 78 (N) missing from font(s) B Nazanin.\n",
      "\n",
      "c:\\Users\\SARIR\\AppData\\Local\\Programs\\Python\\Python313\\Lib\\site-packages\\IPython\\core\\pylabtools.py:170: UserWarning:\n",
      "\n",
      "Glyph 117 (u) missing from font(s) B Nazanin.\n",
      "\n",
      "c:\\Users\\SARIR\\AppData\\Local\\Programs\\Python\\Python313\\Lib\\site-packages\\IPython\\core\\pylabtools.py:170: UserWarning:\n",
      "\n",
      "Glyph 109 (m) missing from font(s) B Nazanin.\n",
      "\n",
      "c:\\Users\\SARIR\\AppData\\Local\\Programs\\Python\\Python313\\Lib\\site-packages\\IPython\\core\\pylabtools.py:170: UserWarning:\n",
      "\n",
      "Glyph 98 (b) missing from font(s) B Nazanin.\n",
      "\n",
      "c:\\Users\\SARIR\\AppData\\Local\\Programs\\Python\\Python313\\Lib\\site-packages\\IPython\\core\\pylabtools.py:170: UserWarning:\n",
      "\n",
      "Glyph 101 (e) missing from font(s) B Nazanin.\n",
      "\n",
      "c:\\Users\\SARIR\\AppData\\Local\\Programs\\Python\\Python313\\Lib\\site-packages\\IPython\\core\\pylabtools.py:170: UserWarning:\n",
      "\n",
      "Glyph 114 (r) missing from font(s) B Nazanin.\n",
      "\n",
      "c:\\Users\\SARIR\\AppData\\Local\\Programs\\Python\\Python313\\Lib\\site-packages\\IPython\\core\\pylabtools.py:170: UserWarning:\n",
      "\n",
      "Glyph 111 (o) missing from font(s) B Nazanin.\n",
      "\n",
      "c:\\Users\\SARIR\\AppData\\Local\\Programs\\Python\\Python313\\Lib\\site-packages\\IPython\\core\\pylabtools.py:170: UserWarning:\n",
      "\n",
      "Glyph 102 (f) missing from font(s) B Nazanin.\n",
      "\n",
      "c:\\Users\\SARIR\\AppData\\Local\\Programs\\Python\\Python313\\Lib\\site-packages\\IPython\\core\\pylabtools.py:170: UserWarning:\n",
      "\n",
      "Glyph 79 (O) missing from font(s) B Nazanin.\n",
      "\n",
      "c:\\Users\\SARIR\\AppData\\Local\\Programs\\Python\\Python313\\Lib\\site-packages\\IPython\\core\\pylabtools.py:170: UserWarning:\n",
      "\n",
      "Glyph 100 (d) missing from font(s) B Nazanin.\n",
      "\n",
      "c:\\Users\\SARIR\\AppData\\Local\\Programs\\Python\\Python313\\Lib\\site-packages\\IPython\\core\\pylabtools.py:170: UserWarning:\n",
      "\n",
      "Glyph 115 (s) missing from font(s) B Nazanin.\n",
      "\n",
      "c:\\Users\\SARIR\\AppData\\Local\\Programs\\Python\\Python313\\Lib\\site-packages\\IPython\\core\\pylabtools.py:170: UserWarning:\n",
      "\n",
      "Glyph 84 (T) missing from font(s) B Nazanin.\n",
      "\n",
      "c:\\Users\\SARIR\\AppData\\Local\\Programs\\Python\\Python313\\Lib\\site-packages\\IPython\\core\\pylabtools.py:170: UserWarning:\n",
      "\n",
      "Glyph 67 (C) missing from font(s) B Nazanin.\n",
      "\n",
      "c:\\Users\\SARIR\\AppData\\Local\\Programs\\Python\\Python313\\Lib\\site-packages\\IPython\\core\\pylabtools.py:170: UserWarning:\n",
      "\n",
      "Glyph 105 (i) missing from font(s) B Nazanin.\n",
      "\n",
      "c:\\Users\\SARIR\\AppData\\Local\\Programs\\Python\\Python313\\Lib\\site-packages\\IPython\\core\\pylabtools.py:170: UserWarning:\n",
      "\n",
      "Glyph 116 (t) missing from font(s) B Nazanin.\n",
      "\n",
      "c:\\Users\\SARIR\\AppData\\Local\\Programs\\Python\\Python313\\Lib\\site-packages\\IPython\\core\\pylabtools.py:170: UserWarning:\n",
      "\n",
      "Glyph 121 (y) missing from font(s) B Nazanin.\n",
      "\n",
      "c:\\Users\\SARIR\\AppData\\Local\\Programs\\Python\\Python313\\Lib\\site-packages\\IPython\\core\\pylabtools.py:170: UserWarning:\n",
      "\n",
      "Glyph 110 (n) missing from font(s) B Nazanin.\n",
      "\n"
     ]
    },
    {
     "data": {
      "image/png": "[encoded data removed]",
      "text/plain": [
       "<Figure size 1200x600 with 1 Axes>"
      ]
     },
     "metadata": {},
     "output_type": "display_data"
    }
   ],
   "source": [
    "plt.figure(figsize=(12, 6))\n",
    "df['Order City'].value_counts().head(10).plot(kind='bar')\n",
    "plt.xlabel('City')\n",
    "plt.ylabel('Number of Orders')\n",
    "plt.title('Top 10 Cities by Order Count')\n",
    "plt.xticks(rotation=45)\n",
    "plt.show()"
   ]
  },
  {
   "cell_type": "markdown",
   "id": "bb1d59ac",
   "metadata": {},
   "source": [
    "### Scatter Plot of Price vs. Discount\n",
    "This scatter plot helps visualize any correlation between price and discounts offered."
   ]
  },
  {
   "cell_type": "code",
   "execution_count": 79,
   "id": "01754a74",
   "metadata": {},
   "outputs": [
    {
     "name": "stderr",
     "output_type": "stream",
     "text": [
      "c:\\Users\\SARIR\\AppData\\Local\\Programs\\Python\\Python313\\Lib\\site-packages\\IPython\\core\\pylabtools.py:170: UserWarning:\n",
      "\n",
      "Glyph 108 (l) missing from font(s) B Nazanin.\n",
      "\n",
      "c:\\Users\\SARIR\\AppData\\Local\\Programs\\Python\\Python313\\Lib\\site-packages\\IPython\\core\\pylabtools.py:170: UserWarning:\n",
      "\n",
      "Glyph 112 (p) missing from font(s) B Nazanin.\n",
      "\n",
      "c:\\Users\\SARIR\\AppData\\Local\\Programs\\Python\\Python313\\Lib\\site-packages\\IPython\\core\\pylabtools.py:170: UserWarning:\n",
      "\n",
      "Glyph 8722 (\\N{MINUS SIGN}) missing from font(s) B Nazanin.\n",
      "\n",
      "c:\\Users\\SARIR\\AppData\\Local\\Programs\\Python\\Python313\\Lib\\site-packages\\IPython\\core\\pylabtools.py:170: UserWarning:\n",
      "\n",
      "Glyph 68 (D) missing from font(s) B Nazanin.\n",
      "\n",
      "c:\\Users\\SARIR\\AppData\\Local\\Programs\\Python\\Python313\\Lib\\site-packages\\IPython\\core\\pylabtools.py:170: UserWarning:\n",
      "\n",
      "Glyph 105 (i) missing from font(s) B Nazanin.\n",
      "\n",
      "c:\\Users\\SARIR\\AppData\\Local\\Programs\\Python\\Python313\\Lib\\site-packages\\IPython\\core\\pylabtools.py:170: UserWarning:\n",
      "\n",
      "Glyph 115 (s) missing from font(s) B Nazanin.\n",
      "\n",
      "c:\\Users\\SARIR\\AppData\\Local\\Programs\\Python\\Python313\\Lib\\site-packages\\IPython\\core\\pylabtools.py:170: UserWarning:\n",
      "\n",
      "Glyph 99 (c) missing from font(s) B Nazanin.\n",
      "\n",
      "c:\\Users\\SARIR\\AppData\\Local\\Programs\\Python\\Python313\\Lib\\site-packages\\IPython\\core\\pylabtools.py:170: UserWarning:\n",
      "\n",
      "Glyph 111 (o) missing from font(s) B Nazanin.\n",
      "\n",
      "c:\\Users\\SARIR\\AppData\\Local\\Programs\\Python\\Python313\\Lib\\site-packages\\IPython\\core\\pylabtools.py:170: UserWarning:\n",
      "\n",
      "Glyph 117 (u) missing from font(s) B Nazanin.\n",
      "\n",
      "c:\\Users\\SARIR\\AppData\\Local\\Programs\\Python\\Python313\\Lib\\site-packages\\IPython\\core\\pylabtools.py:170: UserWarning:\n",
      "\n",
      "Glyph 110 (n) missing from font(s) B Nazanin.\n",
      "\n",
      "c:\\Users\\SARIR\\AppData\\Local\\Programs\\Python\\Python313\\Lib\\site-packages\\IPython\\core\\pylabtools.py:170: UserWarning:\n",
      "\n",
      "Glyph 116 (t) missing from font(s) B Nazanin.\n",
      "\n",
      "c:\\Users\\SARIR\\AppData\\Local\\Programs\\Python\\Python313\\Lib\\site-packages\\IPython\\core\\pylabtools.py:170: UserWarning:\n",
      "\n",
      "Glyph 80 (P) missing from font(s) B Nazanin.\n",
      "\n",
      "c:\\Users\\SARIR\\AppData\\Local\\Programs\\Python\\Python313\\Lib\\site-packages\\IPython\\core\\pylabtools.py:170: UserWarning:\n",
      "\n",
      "Glyph 114 (r) missing from font(s) B Nazanin.\n",
      "\n",
      "c:\\Users\\SARIR\\AppData\\Local\\Programs\\Python\\Python313\\Lib\\site-packages\\IPython\\core\\pylabtools.py:170: UserWarning:\n",
      "\n",
      "Glyph 101 (e) missing from font(s) B Nazanin.\n",
      "\n",
      "c:\\Users\\SARIR\\AppData\\Local\\Programs\\Python\\Python313\\Lib\\site-packages\\IPython\\core\\pylabtools.py:170: UserWarning:\n",
      "\n",
      "Glyph 118 (v) missing from font(s) B Nazanin.\n",
      "\n"
     ]
    },
    {
     "data": {
      "image/png": "[encoded data removed]",
      "text/plain": [
       "<Figure size 800x600 with 1 Axes>"
      ]
     },
     "metadata": {},
     "output_type": "display_data"
    }
   ],
   "source": [
    "plt.figure(figsize=(8,6))\n",
    "sns.scatterplot(x=df['Price'], y=df['Discount'], alpha=0.5)\n",
    "plt.xlabel('Price')\n",
    "plt.ylabel('Discount')\n",
    "plt.title('Price vs. Discount')\n",
    "plt.show()"
   ]
  },
  {
   "cell_type": "markdown",
   "id": "6dde999b",
   "metadata": {},
   "source": [
    "### Error Bar Chart: Average Price per Year with Variability\n",
    "This chart displays the mean price per year with error bars showing the standard deviation."
   ]
  },
  {
   "cell_type": "code",
   "execution_count": 80,
   "id": "9836654c",
   "metadata": {},
   "outputs": [
    {
     "name": "stderr",
     "output_type": "stream",
     "text": [
      "c:\\Users\\SARIR\\AppData\\Local\\Programs\\Python\\Python313\\Lib\\site-packages\\IPython\\core\\pylabtools.py:170: UserWarning:\n",
      "\n",
      "Glyph 65 (A) missing from font(s) B Nazanin.\n",
      "\n",
      "c:\\Users\\SARIR\\AppData\\Local\\Programs\\Python\\Python313\\Lib\\site-packages\\IPython\\core\\pylabtools.py:170: UserWarning:\n",
      "\n",
      "Glyph 97 (a) missing from font(s) B Nazanin.\n",
      "\n",
      "c:\\Users\\SARIR\\AppData\\Local\\Programs\\Python\\Python313\\Lib\\site-packages\\IPython\\core\\pylabtools.py:170: UserWarning:\n",
      "\n",
      "Glyph 103 (g) missing from font(s) B Nazanin.\n",
      "\n",
      "c:\\Users\\SARIR\\AppData\\Local\\Programs\\Python\\Python313\\Lib\\site-packages\\IPython\\core\\pylabtools.py:170: UserWarning:\n",
      "\n",
      "Glyph 89 (Y) missing from font(s) B Nazanin.\n",
      "\n",
      "c:\\Users\\SARIR\\AppData\\Local\\Programs\\Python\\Python313\\Lib\\site-packages\\IPython\\core\\pylabtools.py:170: UserWarning:\n",
      "\n",
      "Glyph 119 (w) missing from font(s) B Nazanin.\n",
      "\n",
      "c:\\Users\\SARIR\\AppData\\Local\\Programs\\Python\\Python313\\Lib\\site-packages\\IPython\\core\\pylabtools.py:170: UserWarning:\n",
      "\n",
      "Glyph 104 (h) missing from font(s) B Nazanin.\n",
      "\n",
      "c:\\Users\\SARIR\\AppData\\Local\\Programs\\Python\\Python313\\Lib\\site-packages\\IPython\\core\\pylabtools.py:170: UserWarning:\n",
      "\n",
      "Glyph 69 (E) missing from font(s) B Nazanin.\n",
      "\n",
      "c:\\Users\\SARIR\\AppData\\Local\\Programs\\Python\\Python313\\Lib\\site-packages\\IPython\\core\\pylabtools.py:170: UserWarning:\n",
      "\n",
      "Glyph 66 (B) missing from font(s) B Nazanin.\n",
      "\n"
     ]
    },
    {
     "data": {
      "image/png": "[encoded data removed]",
      "text/plain": [
       "<Figure size 800x500 with 1 Axes>"
      ]
     },
     "metadata": {},
     "output_type": "display_data"
    }
   ],
   "source": [
    "grouped = df.groupby('Creation Date_Year')['Price'].agg(['mean', 'std'])\n",
    "plt.figure(figsize=(8,5))\n",
    "plt.errorbar(grouped.index, grouped['mean'], yerr=grouped['std'], fmt='o-', capsize=5)\n",
    "plt.xlabel('Year')\n",
    "plt.ylabel('Average Price')\n",
    "plt.title('Average Price per Year with Error Bars')\n",
    "plt.grid()\n",
    "plt.show()"
   ]
  },
  {
   "cell_type": "markdown",
   "id": "a06e6ede",
   "metadata": {},
   "source": [
    "### Interactive Histogram of Prices\n",
    "This interactive histogram allows users to explore the price distribution dynamically."
   ]
  },
  {
   "cell_type": "code",
   "execution_count": 81,
   "id": "fc85ef57",
   "metadata": {},
   "outputs": [
    {
     "data": {
      "application/vnd.plotly.v1+json": {
       "config": {
        "plotlyServerURL": "https://plot.ly"
       },
       "data": [
        {
         "bingroup": "x",
         "hovertemplate": "Price=%{x}<br>count=%{y}<extra></extra>",
         "legendgroup": "",
         "marker": {
          "color": "#636efa",
          "pattern": {
           "shape": ""
          }
         },
         "name": "",
         "nbinsx": 30,
         "orientation": "v",
         "showlegend": false,
         "type": "histogram",
         "x": {
          "bdata": "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",
          "dtype": "f8"
         },
         "xaxis": "x",
         "yaxis": "y"
        }
       ],
       "layout": {
        "barmode": "relative",
        "legend": {
         "tracegroupgap": 0
        },
        "template": {
         "data": {
          "bar": [
           {
            "error_x": {
             "color": "#2a3f5f"
            },
            "error_y": {
             "color": "#2a3f5f"
            },
            "marker": {
             "line": {
              "color": "#E5ECF6",
              "width": 0.5
             },
             "pattern": {
              "fillmode": "overlay",
              "size": 10,
              "solidity": 0.2
             }
            },
            "type": "bar"
           }
          ],
          "barpolar": [
           {
            "marker": {
             "line": {
              "color": "#E5ECF6",
              "width": 0.5
             },
             "pattern": {
              "fillmode": "overlay",
              "size": 10,
              "solidity": 0.2
             }
            },
            "type": "barpolar"
           }
          ],
          "carpet": [
           {
            "aaxis": {
             "endlinecolor": "#2a3f5f",
             "gridcolor": "white",
             "linecolor": "white",
             "minorgridcolor": "white",
             "startlinecolor": "#2a3f5f"
            },
            "baxis": {
             "endlinecolor": "#2a3f5f",
             "gridcolor": "white",
             "linecolor": "white",
             "minorgridcolor": "white",
             "startlinecolor": "#2a3f5f"
            },
            "type": "carpet"
           }
          ],
          "choropleth": [
           {
            "colorbar": {
             "outlinewidth": 0,
             "ticks": ""
            },
            "type": "choropleth"
           }
          ],
          "contour": [
           {
            "colorbar": {
             "outlinewidth": 0,
             "ticks": ""
            },
            "colorscale": [
             [
              0,
              "#0d0887"
             ],
             [
              0.1111111111111111,
              "#46039f"
             ],
             [
              0.2222222222222222,
              "#7201a8"
             ],
             [
              0.3333333333333333,
              "#9c179e"
             ],
             [
              0.4444444444444444,
              "#bd3786"
             ],
             [
              0.5555555555555556,
              "#d8576b"
             ],
             [
              0.6666666666666666,
              "#ed7953"
             ],
             [
              0.7777777777777778,
              "#fb9f3a"
             ],
             [
              0.8888888888888888,
              "#fdca26"
             ],
             [
              1,
              "#f0f921"
             ]
            ],
            "type": "contour"
           }
          ],
          "contourcarpet": [
           {
            "colorbar": {
             "outlinewidth": 0,
             "ticks": ""
            },
            "type": "contourcarpet"
           }
          ],
          "heatmap": [
           {
            "colorbar": {
             "outlinewidth": 0,
             "ticks": ""
            },
            "colorscale": [
             [
              0,
              "#0d0887"
             ],
             [
              0.1111111111111111,
              "#46039f"
             ],
             [
              0.2222222222222222,
              "#7201a8"
             ],
             [
              0.3333333333333333,
              "#9c179e"
             ],
             [
              0.4444444444444444,
              "#bd3786"
             ],
             [
              0.5555555555555556,
              "#d8576b"
             ],
             [
              0.6666666666666666,
              "#ed7953"
             ],
             [
              0.7777777777777778,
              "#fb9f3a"
             ],
             [
              0.8888888888888888,
              "#fdca26"
             ],
             [
              1,
              "#f0f921"
             ]
            ],
            "type": "heatmap"
           }
          ],
          "histogram": [
           {
            "marker": {
             "pattern": {
              "fillmode": "overlay",
              "size": 10,
              "solidity": 0.2
             }
            },
            "type": "histogram"
           }
          ],
          "histogram2d": [
           {
            "colorbar": {
             "outlinewidth": 0,
             "ticks": ""
            },
            "colorscale": [
             [
              0,
              "#0d0887"
             ],
             [
              0.1111111111111111,
              "#46039f"
             ],
             [
              0.2222222222222222,
              "#7201a8"
             ],
             [
              0.3333333333333333,
              "#9c179e"
             ],
             [
              0.4444444444444444,
              "#bd3786"
             ],
             [
              0.5555555555555556,
              "#d8576b"
             ],
             [
              0.6666666666666666,
              "#ed7953"
             ],
             [
              0.7777777777777778,
              "#fb9f3a"
             ],
             [
              0.8888888888888888,
              "#fdca26"
             ],
             [
              1,
              "#f0f921"
             ]
            ],
            "type": "histogram2d"
           }
          ],
          "histogram2dcontour": [
           {
            "colorbar": {
             "outlinewidth": 0,
             "ticks": ""
            },
            "colorscale": [
             [
              0,
              "#0d0887"
             ],
             [
              0.1111111111111111,
              "#46039f"
             ],
             [
              0.2222222222222222,
              "#7201a8"
             ],
             [
              0.3333333333333333,
              "#9c179e"
             ],
             [
              0.4444444444444444,
              "#bd3786"
             ],
             [
              0.5555555555555556,
              "#d8576b"
             ],
             [
              0.6666666666666666,
              "#ed7953"
             ],
             [
              0.7777777777777778,
              "#fb9f3a"
             ],
             [
              0.8888888888888888,
              "#fdca26"
             ],
             [
              1,
              "#f0f921"
             ]
            ],
            "type": "histogram2dcontour"
           }
          ],
          "mesh3d": [
           {
            "colorbar": {
             "outlinewidth": 0,
             "ticks": ""
            },
            "type": "mesh3d"
           }
          ],
          "parcoords": [
           {
            "line": {
             "colorbar": {
              "outlinewidth": 0,
              "ticks": ""
             }
            },
            "type": "parcoords"
           }
          ],
          "pie": [
           {
            "automargin": true,
            "type": "pie"
           }
          ],
          "scatter": [
           {
            "fillpattern": {
             "fillmode": "overlay",
             "size": 10,
             "solidity": 0.2
            },
            "type": "scatter"
           }
          ],
          "scatter3d": [
           {
            "line": {
             "colorbar": {
              "outlinewidth": 0,
              "ticks": ""
             }
            },
            "marker": {
             "colorbar": {
              "outlinewidth": 0,
              "ticks": ""
             }
            },
            "type": "scatter3d"
           }
          ],
          "scattercarpet": [
           {
            "marker": {
             "colorbar": {
              "outlinewidth": 0,
              "ticks": ""
             }
            },
            "type": "scattercarpet"
           }
          ],
          "scattergeo": [
           {
            "marker": {
             "colorbar": {
              "outlinewidth": 0,
              "ticks": ""
             }
            },
            "type": "scattergeo"
           }
          ],
          "scattergl": [
           {
            "marker": {
             "colorbar": {
              "outlinewidth": 0,
              "ticks": ""
             }
            },
            "type": "scattergl"
           }
          ],
          "scattermap": [
           {
            "marker": {
             "colorbar": {
              "outlinewidth": 0,
              "ticks": ""
             }
            },
            "type": "scattermap"
           }
          ],
          "scattermapbox": [
           {
            "marker": {
             "colorbar": {
              "outlinewidth": 0,
              "ticks": ""
             }
            },
            "type": "scattermapbox"
           }
          ],
          "scatterpolar": [
           {
            "marker": {
             "colorbar": {
              "outlinewidth": 0,
              "ticks": ""
             }
            },
            "type": "scatterpolar"
           }
          ],
          "scatterpolargl": [
           {
            "marker": {
             "colorbar": {
              "outlinewidth": 0,
              "ticks": ""
             }
            },
            "type": "scatterpolargl"
           }
          ],
          "scatterternary": [
           {
            "marker": {
             "colorbar": {
              "outlinewidth": 0,
              "ticks": ""
             }
            },
            "type": "scatterternary"
           }
          ],
          "surface": [
           {
            "colorbar": {
             "outlinewidth": 0,
             "ticks": ""
            },
            "colorscale": [
             [
              0,
              "#0d0887"
             ],
             [
              0.1111111111111111,
              "#46039f"
             ],
             [
              0.2222222222222222,
              "#7201a8"
             ],
             [
              0.3333333333333333,
              "#9c179e"
             ],
             [
              0.4444444444444444,
              "#bd3786"
             ],
             [
              0.5555555555555556,
              "#d8576b"
             ],
             [
              0.6666666666666666,
              "#ed7953"
             ],
             [
              0.7777777777777778,
              "#fb9f3a"
             ],
             [
              0.8888888888888888,
              "#fdca26"
             ],
             [
              1,
              "#f0f921"
             ]
            ],
            "type": "surface"
           }
          ],
          "table": [
           {
            "cells": {
             "fill": {
              "color": "#EBF0F8"
             },
             "line": {
              "color": "white"
             }
            },
            "header": {
             "fill": {
              "color": "#C8D4E3"
             },
             "line": {
              "color": "white"
             }
            },
            "type": "table"
           }
          ]
         },
         "layout": {
          "annotationdefaults": {
           "arrowcolor": "#2a3f5f",
           "arrowhead": 0,
           "arrowwidth": 1
          },
          "autotypenumbers": "strict",
          "coloraxis": {
           "colorbar": {
            "outlinewidth": 0,
            "ticks": ""
           }
          },
          "colorscale": {
           "diverging": [
            [
             0,
             "#8e0152"
            ],
            [
             0.1,
             "#c51b7d"
            ],
            [
             0.2,
             "#de77ae"
            ],
            [
             0.3,
             "#f1b6da"
            ],
            [
             0.4,
             "#fde0ef"
            ],
            [
             0.5,
             "#f7f7f7"
            ],
            [
             0.6,
             "#e6f5d0"
            ],
            [
             0.7,
             "#b8e186"
            ],
            [
             0.8,
             "#7fbc41"
            ],
            [
             0.9,
             "#4d9221"
            ],
            [
             1,
             "#276419"
            ]
           ],
           "sequential": [
            [
             0,
             "#0d0887"
            ],
            [
             0.1111111111111111,
             "#46039f"
            ],
            [
             0.2222222222222222,
             "#7201a8"
            ],
            [
             0.3333333333333333,
             "#9c179e"
            ],
            [
             0.4444444444444444,
             "#bd3786"
            ],
            [
             0.5555555555555556,
             "#d8576b"
            ],
            [
             0.6666666666666666,
             "#ed7953"
            ],
            [
             0.7777777777777778,
             "#fb9f3a"
            ],
            [
             0.8888888888888888,
             "#fdca26"
            ],
            [
             1,
             "#f0f921"
            ]
           ],
           "sequentialminus": [
            [
             0,
             "#0d0887"
            ],
            [
             0.1111111111111111,
             "#46039f"
            ],
            [
             0.2222222222222222,
             "#7201a8"
            ],
            [
             0.3333333333333333,
             "#9c179e"
            ],
            [
             0.4444444444444444,
             "#bd3786"
            ],
            [
             0.5555555555555556,
             "#d8576b"
            ],
            [
             0.6666666666666666,
             "#ed7953"
            ],
            [
             0.7777777777777778,
             "#fb9f3a"
            ],
            [
             0.8888888888888888,
             "#fdca26"
            ],
            [
             1,
             "#f0f921"
            ]
           ]
          },
          "colorway": [
           "#636efa",
           "#EF553B",
           "#00cc96",
           "#ab63fa",
           "#FFA15A",
           "#19d3f3",
           "#FF6692",
           "#B6E880",
           "#FF97FF",
           "#FECB52"
          ],
          "font": {
           "color": "#2a3f5f"
          },
          "geo": {
           "bgcolor": "white",
           "lakecolor": "white",
           "landcolor": "#E5ECF6",
           "showlakes": true,
           "showland": true,
           "subunitcolor": "white"
          },
          "hoverlabel": {
           "align": "left"
          },
          "hovermode": "closest",
          "mapbox": {
           "style": "light"
          },
          "paper_bgcolor": "white",
          "plot_bgcolor": "#E5ECF6",
          "polar": {
           "angularaxis": {
            "gridcolor": "white",
            "linecolor": "white",
            "ticks": ""
           },
           "bgcolor": "#E5ECF6",
           "radialaxis": {
            "gridcolor": "white",
            "linecolor": "white",
            "ticks": ""
           }
          },
          "scene": {
           "xaxis": {
            "backgroundcolor": "#E5ECF6",
            "gridcolor": "white",
            "gridwidth": 2,
            "linecolor": "white",
            "showbackground": true,
            "ticks": "",
            "zerolinecolor": "white"
           },
           "yaxis": {
            "backgroundcolor": "#E5ECF6",
            "gridcolor": "white",
            "gridwidth": 2,
            "linecolor": "white",
            "showbackground": true,
            "ticks": "",
            "zerolinecolor": "white"
           },
           "zaxis": {
            "backgroundcolor": "#E5ECF6",
            "gridcolor": "white",
            "gridwidth": 2,
            "linecolor": "white",
            "showbackground": true,
            "ticks": "",
            "zerolinecolor": "white"
           }
          },
          "shapedefaults": {
           "line": {
            "color": "#2a3f5f"
           }
          },
          "ternary": {
           "aaxis": {
            "gridcolor": "white",
            "linecolor": "white",
            "ticks": ""
           },
           "baxis": {
            "gridcolor": "white",
            "linecolor": "white",
            "ticks": ""
           },
           "bgcolor": "#E5ECF6",
           "caxis": {
            "gridcolor": "white",
            "linecolor": "white",
            "ticks": ""
           }
          },
          "title": {
           "x": 0.05
          },
          "xaxis": {
           "automargin": true,
           "gridcolor": "white",
           "linecolor": "white",
           "ticks": "",
           "title": {
            "standoff": 15
           },
           "zerolinecolor": "white",
           "zerolinewidth": 2
          },
          "yaxis": {
           "automargin": true,
           "gridcolor": "white",
           "linecolor": "white",
           "ticks": "",
           "title": {
            "standoff": 15
           },
           "zerolinecolor": "white",
           "zerolinewidth": 2
          }
         }
        },
        "title": {
         "text": "Price Distribution"
        },
        "xaxis": {
         "anchor": "y",
         "domain": [
          0,
          1
         ],
         "title": {
          "text": "Price"
         }
        },
        "yaxis": {
         "anchor": "x",
         "domain": [
          0,
          1
         ],
         "title": {
          "text": "count"
         }
        }
       }
      }
     },
     "metadata": {},
     "output_type": "display_data"
    }
   ],
   "source": [
    "fig = px.histogram(df, x='Price', title='Price Distribution', nbins=30)\n",
    "fig.show()"
   ]
  }
 ],
 "metadata": {
  "kernelspec": {
   "display_name": "Python 3",
   "language": "python",
   "name": "python3"
  },
  "language_info": {
   "codemirror_mode": {
    "name": "ipython",
    "version": 3
   },
   "file_extension": ".py",
   "mimetype": "text/x-python",
   "name": "python",
   "nbconvert_exporter": "python",
   "pygments_lexer": "ipython3",
   "version": "3.13.1"
  }
 },
 "nbformat": 4,
 "nbformat_minor": 5
}
